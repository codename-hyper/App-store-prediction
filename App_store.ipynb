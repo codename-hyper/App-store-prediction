{
  "nbformat": 4,
  "nbformat_minor": 0,
  "metadata": {
    "colab": {
      "name": "App_store.ipynb",
      "provenance": []
    },
    "kernelspec": {
      "name": "python3",
      "display_name": "Python 3"
    }
  },
  "cells": [
    {
      "cell_type": "code",
      "metadata": {
        "id": "9SGor8CHbhPb",
        "colab_type": "code",
        "colab": {}
      },
      "source": [
        "import pandas as pd\n",
        "import numpy as np\n",
        "import seaborn as sns\n",
        "import matplotlib.pyplot as plt"
      ],
      "execution_count": 1323,
      "outputs": []
    },
    {
      "cell_type": "code",
      "metadata": {
        "id": "1375fj755Dce",
        "colab_type": "code",
        "colab": {
          "base_uri": "https://localhost:8080/",
          "height": 35
        },
        "outputId": "143c3173-ce70-44dd-815c-1b37451229b8"
      },
      "source": [
        "from google.colab import drive\n",
        "drive.mount('/content/drive')"
      ],
      "execution_count": 1324,
      "outputs": [
        {
          "output_type": "stream",
          "text": [
            "Drive already mounted at /content/drive; to attempt to forcibly remount, call drive.mount(\"/content/drive\", force_remount=True).\n"
          ],
          "name": "stdout"
        }
      ]
    },
    {
      "cell_type": "code",
      "metadata": {
        "id": "shKDbccGcHgQ",
        "colab_type": "code",
        "colab": {}
      },
      "source": [
        "data = pd.read_csv('/content/drive/My Drive/Data for Models/googleplaystore.csv')"
      ],
      "execution_count": 1325,
      "outputs": []
    },
    {
      "cell_type": "code",
      "metadata": {
        "id": "Xhrzj1MRcMWu",
        "colab_type": "code",
        "colab": {
          "base_uri": "https://localhost:8080/",
          "height": 293
        },
        "outputId": "e8187e2c-67f2-477d-9699-14a278e14386"
      },
      "source": [
        "data.head()"
      ],
      "execution_count": 1326,
      "outputs": [
        {
          "output_type": "execute_result",
          "data": {
            "text/html": [
              "<div>\n",
              "<style scoped>\n",
              "    .dataframe tbody tr th:only-of-type {\n",
              "        vertical-align: middle;\n",
              "    }\n",
              "\n",
              "    .dataframe tbody tr th {\n",
              "        vertical-align: top;\n",
              "    }\n",
              "\n",
              "    .dataframe thead th {\n",
              "        text-align: right;\n",
              "    }\n",
              "</style>\n",
              "<table border=\"1\" class=\"dataframe\">\n",
              "  <thead>\n",
              "    <tr style=\"text-align: right;\">\n",
              "      <th></th>\n",
              "      <th>App</th>\n",
              "      <th>Category</th>\n",
              "      <th>Rating</th>\n",
              "      <th>Reviews</th>\n",
              "      <th>Size</th>\n",
              "      <th>Installs</th>\n",
              "      <th>Type</th>\n",
              "      <th>Price</th>\n",
              "      <th>Content Rating</th>\n",
              "      <th>Genres</th>\n",
              "      <th>Last Updated</th>\n",
              "      <th>Current Ver</th>\n",
              "      <th>Android Ver</th>\n",
              "    </tr>\n",
              "  </thead>\n",
              "  <tbody>\n",
              "    <tr>\n",
              "      <th>0</th>\n",
              "      <td>Photo Editor &amp; Candy Camera &amp; Grid &amp; ScrapBook</td>\n",
              "      <td>ART_AND_DESIGN</td>\n",
              "      <td>4.1</td>\n",
              "      <td>159</td>\n",
              "      <td>19M</td>\n",
              "      <td>10,000+</td>\n",
              "      <td>Free</td>\n",
              "      <td>0</td>\n",
              "      <td>Everyone</td>\n",
              "      <td>Art &amp; Design</td>\n",
              "      <td>January 7, 2018</td>\n",
              "      <td>1.0.0</td>\n",
              "      <td>4.0.3 and up</td>\n",
              "    </tr>\n",
              "    <tr>\n",
              "      <th>1</th>\n",
              "      <td>Coloring book moana</td>\n",
              "      <td>ART_AND_DESIGN</td>\n",
              "      <td>3.9</td>\n",
              "      <td>967</td>\n",
              "      <td>14M</td>\n",
              "      <td>500,000+</td>\n",
              "      <td>Free</td>\n",
              "      <td>0</td>\n",
              "      <td>Everyone</td>\n",
              "      <td>Art &amp; Design;Pretend Play</td>\n",
              "      <td>January 15, 2018</td>\n",
              "      <td>2.0.0</td>\n",
              "      <td>4.0.3 and up</td>\n",
              "    </tr>\n",
              "    <tr>\n",
              "      <th>2</th>\n",
              "      <td>U Launcher Lite – FREE Live Cool Themes, Hide ...</td>\n",
              "      <td>ART_AND_DESIGN</td>\n",
              "      <td>4.7</td>\n",
              "      <td>87510</td>\n",
              "      <td>8.7M</td>\n",
              "      <td>5,000,000+</td>\n",
              "      <td>Free</td>\n",
              "      <td>0</td>\n",
              "      <td>Everyone</td>\n",
              "      <td>Art &amp; Design</td>\n",
              "      <td>August 1, 2018</td>\n",
              "      <td>1.2.4</td>\n",
              "      <td>4.0.3 and up</td>\n",
              "    </tr>\n",
              "    <tr>\n",
              "      <th>3</th>\n",
              "      <td>Sketch - Draw &amp; Paint</td>\n",
              "      <td>ART_AND_DESIGN</td>\n",
              "      <td>4.5</td>\n",
              "      <td>215644</td>\n",
              "      <td>25M</td>\n",
              "      <td>50,000,000+</td>\n",
              "      <td>Free</td>\n",
              "      <td>0</td>\n",
              "      <td>Teen</td>\n",
              "      <td>Art &amp; Design</td>\n",
              "      <td>June 8, 2018</td>\n",
              "      <td>Varies with device</td>\n",
              "      <td>4.2 and up</td>\n",
              "    </tr>\n",
              "    <tr>\n",
              "      <th>4</th>\n",
              "      <td>Pixel Draw - Number Art Coloring Book</td>\n",
              "      <td>ART_AND_DESIGN</td>\n",
              "      <td>4.3</td>\n",
              "      <td>967</td>\n",
              "      <td>2.8M</td>\n",
              "      <td>100,000+</td>\n",
              "      <td>Free</td>\n",
              "      <td>0</td>\n",
              "      <td>Everyone</td>\n",
              "      <td>Art &amp; Design;Creativity</td>\n",
              "      <td>June 20, 2018</td>\n",
              "      <td>1.1</td>\n",
              "      <td>4.4 and up</td>\n",
              "    </tr>\n",
              "  </tbody>\n",
              "</table>\n",
              "</div>"
            ],
            "text/plain": [
              "                                                 App  ...   Android Ver\n",
              "0     Photo Editor & Candy Camera & Grid & ScrapBook  ...  4.0.3 and up\n",
              "1                                Coloring book moana  ...  4.0.3 and up\n",
              "2  U Launcher Lite – FREE Live Cool Themes, Hide ...  ...  4.0.3 and up\n",
              "3                              Sketch - Draw & Paint  ...    4.2 and up\n",
              "4              Pixel Draw - Number Art Coloring Book  ...    4.4 and up\n",
              "\n",
              "[5 rows x 13 columns]"
            ]
          },
          "metadata": {
            "tags": []
          },
          "execution_count": 1326
        }
      ]
    },
    {
      "cell_type": "code",
      "metadata": {
        "id": "Egawc0qOXOwN",
        "colab_type": "code",
        "colab": {}
      },
      "source": [
        "#hot = [i for i in data['App'].value_counts().head().index]\n",
        "#hot"
      ],
      "execution_count": 1327,
      "outputs": []
    },
    {
      "cell_type": "code",
      "metadata": {
        "id": "RQ4aE3qcb-K8",
        "colab_type": "code",
        "colab": {}
      },
      "source": [
        "#for i in hot:\n",
        "#  data[i] = np.where(data['App'] == i,1,0)\n"
      ],
      "execution_count": 1328,
      "outputs": []
    },
    {
      "cell_type": "code",
      "metadata": {
        "id": "CkzqS-W3cfwc",
        "colab_type": "code",
        "colab": {
          "base_uri": "https://localhost:8080/",
          "height": 293
        },
        "outputId": "f64ed276-7bb4-4ac7-d685-57530146fe65"
      },
      "source": [
        "data.head()"
      ],
      "execution_count": 1329,
      "outputs": [
        {
          "output_type": "execute_result",
          "data": {
            "text/html": [
              "<div>\n",
              "<style scoped>\n",
              "    .dataframe tbody tr th:only-of-type {\n",
              "        vertical-align: middle;\n",
              "    }\n",
              "\n",
              "    .dataframe tbody tr th {\n",
              "        vertical-align: top;\n",
              "    }\n",
              "\n",
              "    .dataframe thead th {\n",
              "        text-align: right;\n",
              "    }\n",
              "</style>\n",
              "<table border=\"1\" class=\"dataframe\">\n",
              "  <thead>\n",
              "    <tr style=\"text-align: right;\">\n",
              "      <th></th>\n",
              "      <th>App</th>\n",
              "      <th>Category</th>\n",
              "      <th>Rating</th>\n",
              "      <th>Reviews</th>\n",
              "      <th>Size</th>\n",
              "      <th>Installs</th>\n",
              "      <th>Type</th>\n",
              "      <th>Price</th>\n",
              "      <th>Content Rating</th>\n",
              "      <th>Genres</th>\n",
              "      <th>Last Updated</th>\n",
              "      <th>Current Ver</th>\n",
              "      <th>Android Ver</th>\n",
              "    </tr>\n",
              "  </thead>\n",
              "  <tbody>\n",
              "    <tr>\n",
              "      <th>0</th>\n",
              "      <td>Photo Editor &amp; Candy Camera &amp; Grid &amp; ScrapBook</td>\n",
              "      <td>ART_AND_DESIGN</td>\n",
              "      <td>4.1</td>\n",
              "      <td>159</td>\n",
              "      <td>19M</td>\n",
              "      <td>10,000+</td>\n",
              "      <td>Free</td>\n",
              "      <td>0</td>\n",
              "      <td>Everyone</td>\n",
              "      <td>Art &amp; Design</td>\n",
              "      <td>January 7, 2018</td>\n",
              "      <td>1.0.0</td>\n",
              "      <td>4.0.3 and up</td>\n",
              "    </tr>\n",
              "    <tr>\n",
              "      <th>1</th>\n",
              "      <td>Coloring book moana</td>\n",
              "      <td>ART_AND_DESIGN</td>\n",
              "      <td>3.9</td>\n",
              "      <td>967</td>\n",
              "      <td>14M</td>\n",
              "      <td>500,000+</td>\n",
              "      <td>Free</td>\n",
              "      <td>0</td>\n",
              "      <td>Everyone</td>\n",
              "      <td>Art &amp; Design;Pretend Play</td>\n",
              "      <td>January 15, 2018</td>\n",
              "      <td>2.0.0</td>\n",
              "      <td>4.0.3 and up</td>\n",
              "    </tr>\n",
              "    <tr>\n",
              "      <th>2</th>\n",
              "      <td>U Launcher Lite – FREE Live Cool Themes, Hide ...</td>\n",
              "      <td>ART_AND_DESIGN</td>\n",
              "      <td>4.7</td>\n",
              "      <td>87510</td>\n",
              "      <td>8.7M</td>\n",
              "      <td>5,000,000+</td>\n",
              "      <td>Free</td>\n",
              "      <td>0</td>\n",
              "      <td>Everyone</td>\n",
              "      <td>Art &amp; Design</td>\n",
              "      <td>August 1, 2018</td>\n",
              "      <td>1.2.4</td>\n",
              "      <td>4.0.3 and up</td>\n",
              "    </tr>\n",
              "    <tr>\n",
              "      <th>3</th>\n",
              "      <td>Sketch - Draw &amp; Paint</td>\n",
              "      <td>ART_AND_DESIGN</td>\n",
              "      <td>4.5</td>\n",
              "      <td>215644</td>\n",
              "      <td>25M</td>\n",
              "      <td>50,000,000+</td>\n",
              "      <td>Free</td>\n",
              "      <td>0</td>\n",
              "      <td>Teen</td>\n",
              "      <td>Art &amp; Design</td>\n",
              "      <td>June 8, 2018</td>\n",
              "      <td>Varies with device</td>\n",
              "      <td>4.2 and up</td>\n",
              "    </tr>\n",
              "    <tr>\n",
              "      <th>4</th>\n",
              "      <td>Pixel Draw - Number Art Coloring Book</td>\n",
              "      <td>ART_AND_DESIGN</td>\n",
              "      <td>4.3</td>\n",
              "      <td>967</td>\n",
              "      <td>2.8M</td>\n",
              "      <td>100,000+</td>\n",
              "      <td>Free</td>\n",
              "      <td>0</td>\n",
              "      <td>Everyone</td>\n",
              "      <td>Art &amp; Design;Creativity</td>\n",
              "      <td>June 20, 2018</td>\n",
              "      <td>1.1</td>\n",
              "      <td>4.4 and up</td>\n",
              "    </tr>\n",
              "  </tbody>\n",
              "</table>\n",
              "</div>"
            ],
            "text/plain": [
              "                                                 App  ...   Android Ver\n",
              "0     Photo Editor & Candy Camera & Grid & ScrapBook  ...  4.0.3 and up\n",
              "1                                Coloring book moana  ...  4.0.3 and up\n",
              "2  U Launcher Lite – FREE Live Cool Themes, Hide ...  ...  4.0.3 and up\n",
              "3                              Sketch - Draw & Paint  ...    4.2 and up\n",
              "4              Pixel Draw - Number Art Coloring Book  ...    4.4 and up\n",
              "\n",
              "[5 rows x 13 columns]"
            ]
          },
          "metadata": {
            "tags": []
          },
          "execution_count": 1329
        }
      ]
    },
    {
      "cell_type": "code",
      "metadata": {
        "id": "zTIouU96chCk",
        "colab_type": "code",
        "colab": {}
      },
      "source": [
        "def hot(df,col):\n",
        "  x = [i for i in df[col].value_counts().head(10).index]\n",
        "  for i in x:\n",
        "    df[i] = np.where(df[col] == i,1,0)"
      ],
      "execution_count": 1330,
      "outputs": []
    },
    {
      "cell_type": "code",
      "metadata": {
        "id": "B32Te0Q9p2dU",
        "colab_type": "code",
        "colab": {}
      },
      "source": [
        "data.drop(columns=['Last Updated','Current Ver','Android Ver'],inplace=True)"
      ],
      "execution_count": 1331,
      "outputs": []
    },
    {
      "cell_type": "code",
      "metadata": {
        "id": "eEyOX2o8qSsJ",
        "colab_type": "code",
        "colab": {}
      },
      "source": [
        "#for i in ['App','Category','Content Rating','Genres']:\n",
        "#  hot(data,col=i)\n",
        "map_App = data['App'].value_counts().to_dict()\n",
        "map_Category = data['Category'].value_counts().to_dict()\n",
        "map_Content_Rating = data['Content Rating'].value_counts().to_dict()\n",
        "map_Genres = data['Genres'].value_counts().to_dict()"
      ],
      "execution_count": 1332,
      "outputs": []
    },
    {
      "cell_type": "code",
      "metadata": {
        "id": "fElHc9VsGMQh",
        "colab_type": "code",
        "colab": {}
      },
      "source": [
        "data['App'] = data['App'].map(map_App)\n",
        "data['Category'] = data['Category'].map(map_Category)\n",
        "data['Content Rating'] = data['Content Rating'].map(map_Content_Rating)\n",
        "data['Genres'] = data['Genres'].map(map_Genres)"
      ],
      "execution_count": 1333,
      "outputs": []
    },
    {
      "cell_type": "code",
      "metadata": {
        "id": "4u8nStNrqmQB",
        "colab_type": "code",
        "colab": {
          "base_uri": "https://localhost:8080/",
          "height": 206
        },
        "outputId": "47dbebed-9ab2-473a-a4bf-f862001a65ed"
      },
      "source": [
        "data.head()"
      ],
      "execution_count": 1334,
      "outputs": [
        {
          "output_type": "execute_result",
          "data": {
            "text/html": [
              "<div>\n",
              "<style scoped>\n",
              "    .dataframe tbody tr th:only-of-type {\n",
              "        vertical-align: middle;\n",
              "    }\n",
              "\n",
              "    .dataframe tbody tr th {\n",
              "        vertical-align: top;\n",
              "    }\n",
              "\n",
              "    .dataframe thead th {\n",
              "        text-align: right;\n",
              "    }\n",
              "</style>\n",
              "<table border=\"1\" class=\"dataframe\">\n",
              "  <thead>\n",
              "    <tr style=\"text-align: right;\">\n",
              "      <th></th>\n",
              "      <th>App</th>\n",
              "      <th>Category</th>\n",
              "      <th>Rating</th>\n",
              "      <th>Reviews</th>\n",
              "      <th>Size</th>\n",
              "      <th>Installs</th>\n",
              "      <th>Type</th>\n",
              "      <th>Price</th>\n",
              "      <th>Content Rating</th>\n",
              "      <th>Genres</th>\n",
              "    </tr>\n",
              "  </thead>\n",
              "  <tbody>\n",
              "    <tr>\n",
              "      <th>0</th>\n",
              "      <td>1</td>\n",
              "      <td>65</td>\n",
              "      <td>4.1</td>\n",
              "      <td>159</td>\n",
              "      <td>19M</td>\n",
              "      <td>10,000+</td>\n",
              "      <td>Free</td>\n",
              "      <td>0</td>\n",
              "      <td>8714.0</td>\n",
              "      <td>58</td>\n",
              "    </tr>\n",
              "    <tr>\n",
              "      <th>1</th>\n",
              "      <td>2</td>\n",
              "      <td>65</td>\n",
              "      <td>3.9</td>\n",
              "      <td>967</td>\n",
              "      <td>14M</td>\n",
              "      <td>500,000+</td>\n",
              "      <td>Free</td>\n",
              "      <td>0</td>\n",
              "      <td>8714.0</td>\n",
              "      <td>2</td>\n",
              "    </tr>\n",
              "    <tr>\n",
              "      <th>2</th>\n",
              "      <td>1</td>\n",
              "      <td>65</td>\n",
              "      <td>4.7</td>\n",
              "      <td>87510</td>\n",
              "      <td>8.7M</td>\n",
              "      <td>5,000,000+</td>\n",
              "      <td>Free</td>\n",
              "      <td>0</td>\n",
              "      <td>8714.0</td>\n",
              "      <td>58</td>\n",
              "    </tr>\n",
              "    <tr>\n",
              "      <th>3</th>\n",
              "      <td>1</td>\n",
              "      <td>65</td>\n",
              "      <td>4.5</td>\n",
              "      <td>215644</td>\n",
              "      <td>25M</td>\n",
              "      <td>50,000,000+</td>\n",
              "      <td>Free</td>\n",
              "      <td>0</td>\n",
              "      <td>1208.0</td>\n",
              "      <td>58</td>\n",
              "    </tr>\n",
              "    <tr>\n",
              "      <th>4</th>\n",
              "      <td>1</td>\n",
              "      <td>65</td>\n",
              "      <td>4.3</td>\n",
              "      <td>967</td>\n",
              "      <td>2.8M</td>\n",
              "      <td>100,000+</td>\n",
              "      <td>Free</td>\n",
              "      <td>0</td>\n",
              "      <td>8714.0</td>\n",
              "      <td>7</td>\n",
              "    </tr>\n",
              "  </tbody>\n",
              "</table>\n",
              "</div>"
            ],
            "text/plain": [
              "   App  Category  Rating Reviews  ...  Type Price Content Rating Genres\n",
              "0    1        65     4.1     159  ...  Free     0         8714.0     58\n",
              "1    2        65     3.9     967  ...  Free     0         8714.0      2\n",
              "2    1        65     4.7   87510  ...  Free     0         8714.0     58\n",
              "3    1        65     4.5  215644  ...  Free     0         1208.0     58\n",
              "4    1        65     4.3     967  ...  Free     0         8714.0      7\n",
              "\n",
              "[5 rows x 10 columns]"
            ]
          },
          "metadata": {
            "tags": []
          },
          "execution_count": 1334
        }
      ]
    },
    {
      "cell_type": "code",
      "metadata": {
        "id": "h8IKSFFvq0Tz",
        "colab_type": "code",
        "colab": {}
      },
      "source": [
        "data.drop(columns=['App','Category','Content Rating','Genres'],inplace=True)"
      ],
      "execution_count": 1335,
      "outputs": []
    },
    {
      "cell_type": "code",
      "metadata": {
        "id": "4CXO0YugrBxn",
        "colab_type": "code",
        "colab": {
          "base_uri": "https://localhost:8080/",
          "height": 146
        },
        "outputId": "a5c7006d-953b-4467-8053-a5b729bfbdc4"
      },
      "source": [
        "data.dtypes"
      ],
      "execution_count": 1336,
      "outputs": [
        {
          "output_type": "execute_result",
          "data": {
            "text/plain": [
              "Rating      float64\n",
              "Reviews      object\n",
              "Size         object\n",
              "Installs     object\n",
              "Type         object\n",
              "Price        object\n",
              "dtype: object"
            ]
          },
          "metadata": {
            "tags": []
          },
          "execution_count": 1336
        }
      ]
    },
    {
      "cell_type": "code",
      "metadata": {
        "id": "8w6AHS-4rE37",
        "colab_type": "code",
        "colab": {
          "base_uri": "https://localhost:8080/",
          "height": 35
        },
        "outputId": "d673ddbc-655e-490c-9f2c-8a1ab4a18fed"
      },
      "source": [
        "data['Type'].unique()"
      ],
      "execution_count": 1337,
      "outputs": [
        {
          "output_type": "execute_result",
          "data": {
            "text/plain": [
              "array(['Free', 'Paid', nan, '0'], dtype=object)"
            ]
          },
          "metadata": {
            "tags": []
          },
          "execution_count": 1337
        }
      ]
    },
    {
      "cell_type": "code",
      "metadata": {
        "id": "VOusbZUZrWoz",
        "colab_type": "code",
        "colab": {}
      },
      "source": [
        "data['Type'] = data['Type'].replace(0,np.NaN)\n",
        "#data = pd.get_dummies(data,columns=['Type'])"
      ],
      "execution_count": 1338,
      "outputs": []
    },
    {
      "cell_type": "code",
      "metadata": {
        "id": "sIXxMNyArzly",
        "colab_type": "code",
        "colab": {
          "base_uri": "https://localhost:8080/",
          "height": 206
        },
        "outputId": "7e722490-7695-4eb0-fc68-f993d2be5e72"
      },
      "source": [
        "data.head()"
      ],
      "execution_count": 1339,
      "outputs": [
        {
          "output_type": "execute_result",
          "data": {
            "text/html": [
              "<div>\n",
              "<style scoped>\n",
              "    .dataframe tbody tr th:only-of-type {\n",
              "        vertical-align: middle;\n",
              "    }\n",
              "\n",
              "    .dataframe tbody tr th {\n",
              "        vertical-align: top;\n",
              "    }\n",
              "\n",
              "    .dataframe thead th {\n",
              "        text-align: right;\n",
              "    }\n",
              "</style>\n",
              "<table border=\"1\" class=\"dataframe\">\n",
              "  <thead>\n",
              "    <tr style=\"text-align: right;\">\n",
              "      <th></th>\n",
              "      <th>Rating</th>\n",
              "      <th>Reviews</th>\n",
              "      <th>Size</th>\n",
              "      <th>Installs</th>\n",
              "      <th>Type</th>\n",
              "      <th>Price</th>\n",
              "    </tr>\n",
              "  </thead>\n",
              "  <tbody>\n",
              "    <tr>\n",
              "      <th>0</th>\n",
              "      <td>4.1</td>\n",
              "      <td>159</td>\n",
              "      <td>19M</td>\n",
              "      <td>10,000+</td>\n",
              "      <td>Free</td>\n",
              "      <td>0</td>\n",
              "    </tr>\n",
              "    <tr>\n",
              "      <th>1</th>\n",
              "      <td>3.9</td>\n",
              "      <td>967</td>\n",
              "      <td>14M</td>\n",
              "      <td>500,000+</td>\n",
              "      <td>Free</td>\n",
              "      <td>0</td>\n",
              "    </tr>\n",
              "    <tr>\n",
              "      <th>2</th>\n",
              "      <td>4.7</td>\n",
              "      <td>87510</td>\n",
              "      <td>8.7M</td>\n",
              "      <td>5,000,000+</td>\n",
              "      <td>Free</td>\n",
              "      <td>0</td>\n",
              "    </tr>\n",
              "    <tr>\n",
              "      <th>3</th>\n",
              "      <td>4.5</td>\n",
              "      <td>215644</td>\n",
              "      <td>25M</td>\n",
              "      <td>50,000,000+</td>\n",
              "      <td>Free</td>\n",
              "      <td>0</td>\n",
              "    </tr>\n",
              "    <tr>\n",
              "      <th>4</th>\n",
              "      <td>4.3</td>\n",
              "      <td>967</td>\n",
              "      <td>2.8M</td>\n",
              "      <td>100,000+</td>\n",
              "      <td>Free</td>\n",
              "      <td>0</td>\n",
              "    </tr>\n",
              "  </tbody>\n",
              "</table>\n",
              "</div>"
            ],
            "text/plain": [
              "   Rating Reviews  Size     Installs  Type Price\n",
              "0     4.1     159   19M      10,000+  Free     0\n",
              "1     3.9     967   14M     500,000+  Free     0\n",
              "2     4.7   87510  8.7M   5,000,000+  Free     0\n",
              "3     4.5  215644   25M  50,000,000+  Free     0\n",
              "4     4.3     967  2.8M     100,000+  Free     0"
            ]
          },
          "metadata": {
            "tags": []
          },
          "execution_count": 1339
        }
      ]
    },
    {
      "cell_type": "code",
      "metadata": {
        "id": "FPtThFBwGqmE",
        "colab_type": "code",
        "colab": {
          "base_uri": "https://localhost:8080/",
          "height": 297
        },
        "outputId": "04df9443-6e24-4abb-9a81-3b568f8f505e"
      },
      "source": [
        "sns.countplot(data['Type'])"
      ],
      "execution_count": 1340,
      "outputs": [
        {
          "output_type": "execute_result",
          "data": {
            "text/plain": [
              "<matplotlib.axes._subplots.AxesSubplot at 0x7f7526c55eb8>"
            ]
          },
          "metadata": {
            "tags": []
          },
          "execution_count": 1340
        },
        {
          "output_type": "display_data",
          "data": {
            "image/png": "[encoded data removed]",
            "text/plain": [
              "<Figure size 432x288 with 1 Axes>"
            ]
          },
          "metadata": {
            "tags": [],
            "needs_background": "light"
          }
        }
      ]
    },
    {
      "cell_type": "code",
      "metadata": {
        "id": "hJg8khgZr3QJ",
        "colab_type": "code",
        "colab": {}
      },
      "source": [
        "data['Installs'] = data['Installs'].str[0:-1]\n",
        "data['Size'] = data['Size'].str[0:-1]\n",
        "data['Reviews'] = data['Reviews'].str[0:-1]"
      ],
      "execution_count": 1341,
      "outputs": []
    },
    {
      "cell_type": "code",
      "metadata": {
        "id": "nMXUsG6gtODj",
        "colab_type": "code",
        "colab": {}
      },
      "source": [
        "data['Size'] = data['Size'].replace('Varies with devic',np.NaN)\n",
        "data['Installs'] = data['Installs'].replace('Fr',np.NaN)\n",
        "data['Installs'] = data['Installs'].replace('',np.NaN)"
      ],
      "execution_count": 1342,
      "outputs": []
    },
    {
      "cell_type": "code",
      "metadata": {
        "id": "D8qDr6zht99a",
        "colab_type": "code",
        "colab": {
          "base_uri": "https://localhost:8080/",
          "height": 206
        },
        "outputId": "4d228200-d7c9-433b-c73c-9080928a41c1"
      },
      "source": [
        "data.head()"
      ],
      "execution_count": 1343,
      "outputs": [
        {
          "output_type": "execute_result",
          "data": {
            "text/html": [
              "<div>\n",
              "<style scoped>\n",
              "    .dataframe tbody tr th:only-of-type {\n",
              "        vertical-align: middle;\n",
              "    }\n",
              "\n",
              "    .dataframe tbody tr th {\n",
              "        vertical-align: top;\n",
              "    }\n",
              "\n",
              "    .dataframe thead th {\n",
              "        text-align: right;\n",
              "    }\n",
              "</style>\n",
              "<table border=\"1\" class=\"dataframe\">\n",
              "  <thead>\n",
              "    <tr style=\"text-align: right;\">\n",
              "      <th></th>\n",
              "      <th>Rating</th>\n",
              "      <th>Reviews</th>\n",
              "      <th>Size</th>\n",
              "      <th>Installs</th>\n",
              "      <th>Type</th>\n",
              "      <th>Price</th>\n",
              "    </tr>\n",
              "  </thead>\n",
              "  <tbody>\n",
              "    <tr>\n",
              "      <th>0</th>\n",
              "      <td>4.1</td>\n",
              "      <td>15</td>\n",
              "      <td>19</td>\n",
              "      <td>10,000</td>\n",
              "      <td>Free</td>\n",
              "      <td>0</td>\n",
              "    </tr>\n",
              "    <tr>\n",
              "      <th>1</th>\n",
              "      <td>3.9</td>\n",
              "      <td>96</td>\n",
              "      <td>14</td>\n",
              "      <td>500,000</td>\n",
              "      <td>Free</td>\n",
              "      <td>0</td>\n",
              "    </tr>\n",
              "    <tr>\n",
              "      <th>2</th>\n",
              "      <td>4.7</td>\n",
              "      <td>8751</td>\n",
              "      <td>8.7</td>\n",
              "      <td>5,000,000</td>\n",
              "      <td>Free</td>\n",
              "      <td>0</td>\n",
              "    </tr>\n",
              "    <tr>\n",
              "      <th>3</th>\n",
              "      <td>4.5</td>\n",
              "      <td>21564</td>\n",
              "      <td>25</td>\n",
              "      <td>50,000,000</td>\n",
              "      <td>Free</td>\n",
              "      <td>0</td>\n",
              "    </tr>\n",
              "    <tr>\n",
              "      <th>4</th>\n",
              "      <td>4.3</td>\n",
              "      <td>96</td>\n",
              "      <td>2.8</td>\n",
              "      <td>100,000</td>\n",
              "      <td>Free</td>\n",
              "      <td>0</td>\n",
              "    </tr>\n",
              "  </tbody>\n",
              "</table>\n",
              "</div>"
            ],
            "text/plain": [
              "   Rating Reviews Size    Installs  Type Price\n",
              "0     4.1      15   19      10,000  Free     0\n",
              "1     3.9      96   14     500,000  Free     0\n",
              "2     4.7    8751  8.7   5,000,000  Free     0\n",
              "3     4.5   21564   25  50,000,000  Free     0\n",
              "4     4.3      96  2.8     100,000  Free     0"
            ]
          },
          "metadata": {
            "tags": []
          },
          "execution_count": 1343
        }
      ]
    },
    {
      "cell_type": "code",
      "metadata": {
        "id": "yqMJQE4yuKCb",
        "colab_type": "code",
        "colab": {}
      },
      "source": [
        "data['Price'] = data['Price'].replace('0','.0')\n",
        "data['Price'] = data['Price'].str[1:]"
      ],
      "execution_count": 1344,
      "outputs": []
    },
    {
      "cell_type": "code",
      "metadata": {
        "id": "jDQg0otIuwh6",
        "colab_type": "code",
        "colab": {}
      },
      "source": [
        "data['Price'] = data['Price'].replace('veryone',np.NaN)\n",
        "#data['Price'] = data['Price'].replace('0',np.NaN)\n",
        "data = data.drop(columns='Price')"
      ],
      "execution_count": 1345,
      "outputs": []
    },
    {
      "cell_type": "code",
      "metadata": {
        "id": "k9OxnFLyvQGx",
        "colab_type": "code",
        "colab": {}
      },
      "source": [
        "for i in ['Installs','Size','Reviews','Rating']:\n",
        "  data[i] = pd.to_numeric(data[i],errors='coerce')"
      ],
      "execution_count": 1346,
      "outputs": []
    },
    {
      "cell_type": "code",
      "metadata": {
        "id": "iJMBNTS6vwQj",
        "colab_type": "code",
        "colab": {}
      },
      "source": [
        "data = data.dropna(how='any')"
      ],
      "execution_count": 1347,
      "outputs": []
    },
    {
      "cell_type": "code",
      "metadata": {
        "id": "vXLCpN-61wKa",
        "colab_type": "code",
        "colab": {}
      },
      "source": [
        "data['Type'] = data['Type'].replace(['Free','Paid'],[0,1])"
      ],
      "execution_count": 1348,
      "outputs": []
    },
    {
      "cell_type": "code",
      "metadata": {
        "id": "KBkz6FWd53Ci",
        "colab_type": "code",
        "colab": {
          "base_uri": "https://localhost:8080/",
          "height": 1000
        },
        "outputId": "128a7c96-452b-4809-dcee-4d72351f120d"
      },
      "source": [
        "for i in data.columns:\n",
        "  if i != 'Type':\n",
        "    sns.regplot(data[i],data['Type'],data)\n",
        "    plt.show()"
      ],
      "execution_count": 1349,
      "outputs": [
        {
          "output_type": "display_data",
          "data": {
            "image/png": "[encoded data removed]",
            "text/plain": [
              "<Figure size 432x288 with 1 Axes>"
            ]
          },
          "metadata": {
            "tags": [],
            "needs_background": "light"
          }
        },
        {
          "output_type": "display_data",
          "data": {
            "image/png": "[encoded data removed]",
            "text/plain": [
              "<Figure size 432x288 with 1 Axes>"
            ]
          },
          "metadata": {
            "tags": [],
            "needs_background": "light"
          }
        },
        {
          "output_type": "display_data",
          "data": {
            "image/png": "[encoded data removed]",
            "text/plain": [
              "<Figure size 432x288 with 1 Axes>"
            ]
          },
          "metadata": {
            "tags": [],
            "needs_background": "light"
          }
        },
        {
          "output_type": "display_data",
          "data": {
            "image/png": "[encoded data removed]",
            "text/plain": [
              "<Figure size 432x288 with 1 Axes>"
            ]
          },
          "metadata": {
            "tags": [],
            "needs_background": "light"
          }
        }
      ]
    },
    {
      "cell_type": "code",
      "metadata": {
        "id": "EXS0JRgZv-cf",
        "colab_type": "code",
        "colab": {}
      },
      "source": [
        "from sklearn.linear_model import Lasso,LinearRegression\n",
        "from sklearn.ensemble import RandomForestClassifier\n",
        "from sklearn.tree import DecisionTreeClassifier\n",
        "from sklearn.neighbors import KNeighborsClassifier\n",
        "from sklearn.model_selection import train_test_split\n",
        "model = KNeighborsClassifier()"
      ],
      "execution_count": 1350,
      "outputs": []
    },
    {
      "cell_type": "code",
      "metadata": {
        "id": "pBACt9fBwwMW",
        "colab_type": "code",
        "colab": {}
      },
      "source": [
        "y = data.pop('Type')\n",
        "x = data"
      ],
      "execution_count": 1351,
      "outputs": []
    },
    {
      "cell_type": "code",
      "metadata": {
        "id": "6cbXOMZbxQ2z",
        "colab_type": "code",
        "colab": {}
      },
      "source": [
        "from sklearn.preprocessing import MinMaxScaler\n",
        "scalar = MinMaxScaler()"
      ],
      "execution_count": 1352,
      "outputs": []
    },
    {
      "cell_type": "code",
      "metadata": {
        "id": "mXiz-Gz7xQ-z",
        "colab_type": "code",
        "colab": {
          "base_uri": "https://localhost:8080/",
          "height": 1000
        },
        "outputId": "06648c02-f1e1-4b22-f8d2-2e1890dcaf87"
      },
      "source": [
        "scalar.fit_transform(x)"
      ],
      "execution_count": 1353,
      "outputs": [
        {
          "output_type": "execute_result",
          "data": {
            "text/plain": [
              "array([[8.18181818e-01, 7.14285714e-02, 2.51836306e-03, 1.00000000e+00],\n",
              "       [9.39393939e-01, 7.14285714e-02, 4.09233998e-03, 1.00000000e+00],\n",
              "       [9.09090909e-01, 0.00000000e+00, 4.19727177e-03, 1.00000000e+00],\n",
              "       [8.48484848e-01, 7.85714286e-01, 9.44386149e-03, 1.00000000e+00],\n",
              "       [8.18181818e-01, 7.14285714e-02, 2.51836306e-03, 1.00000000e+00],\n",
              "       [1.00000000e+00, 0.00000000e+00, 1.36411333e-03, 1.83673469e-01],\n",
              "       [8.18181818e-01, 1.42857143e-01, 1.57397692e-02, 1.83673469e-01],\n",
              "       [8.78787879e-01, 1.00000000e+00, 2.20356768e-02, 1.00000000e+00],\n",
              "       [9.09090909e-01, 0.00000000e+00, 1.03882476e-01, 1.00000000e+00],\n",
              "       [7.87878788e-01, 0.00000000e+00, 4.72193075e-02, 1.83673469e-01],\n",
              "       [9.69696970e-01, 0.00000000e+00, 6.29590766e-03, 1.83673469e-01],\n",
              "       [7.87878788e-01, 0.00000000e+00, 2.93809024e-02, 1.83673469e-01],\n",
              "       [7.27272727e-01, 2.14285714e-01, 1.04931794e-02, 1.00000000e+00],\n",
              "       [8.78787879e-01, 0.00000000e+00, 5.35152151e-03, 1.83673469e-01],\n",
              "       [7.87878788e-01, 7.14285714e-02, 1.46904512e-02, 1.00000000e+00],\n",
              "       [7.57575758e-01, 1.42857143e-01, 8.98216159e-01, 1.00000000e+00],\n",
              "       [9.39393939e-01, 0.00000000e+00, 8.28961175e-03, 1.00000000e+00],\n",
              "       [9.39393939e-01, 0.00000000e+00, 2.30849948e-02, 1.83673469e-01],\n",
              "       [8.78787879e-01, 7.14285714e-02, 3.98740818e-02, 1.83673469e-01],\n",
              "       [6.96969697e-01, 0.00000000e+00, 1.88877230e-02, 1.83673469e-01],\n",
              "       [7.57575758e-01, 1.42857143e-01, 4.40713536e-03, 1.00000000e+00],\n",
              "       [3.93939394e-01, 0.00000000e+00, 4.09233998e-03, 1.00000000e+00],\n",
              "       [6.06060606e-01, 7.14285714e-02, 1.99370409e-02, 1.00000000e+00],\n",
              "       [9.39393939e-01, 0.00000000e+00, 5.98111228e-03, 8.16326531e-02],\n",
              "       [9.09090909e-01, 7.14285714e-02, 4.19727177e-02, 1.83673469e-01],\n",
              "       [9.39393939e-01, 0.00000000e+00, 1.78384050e-03, 1.83673469e-01],\n",
              "       [6.36363636e-01, 0.00000000e+00, 1.99370409e-03, 1.00000000e+00],\n",
              "       [5.15151515e-01, 0.00000000e+00, 3.06400839e-01, 1.83673469e-01],\n",
              "       [9.09090909e-01, 0.00000000e+00, 3.14795383e-04, 1.00000000e+00],\n",
              "       [8.48484848e-01, 5.00000000e-01, 2.83315845e-03, 1.00000000e+00],\n",
              "       [1.00000000e+00, 1.42857143e-01, 1.25918153e-02, 1.83673469e-01],\n",
              "       [7.27272727e-01, 0.00000000e+00, 8.07974816e-03, 1.83673469e-01],\n",
              "       [1.00000000e+00, 2.14285714e-01, 1.36411333e-03, 1.83673469e-01],\n",
              "       [8.18181818e-01, 7.14285714e-02, 2.93809024e-03, 1.00000000e+00],\n",
              "       [8.78787879e-01, 4.28571429e-01, 4.93179433e-03, 1.00000000e+00],\n",
              "       [1.00000000e+00, 2.14285714e-01, 1.88877230e-03, 1.83673469e-01],\n",
              "       [8.78787879e-01, 1.42857143e-01, 6.61070304e-03, 1.00000000e+00],\n",
              "       [1.00000000e+00, 0.00000000e+00, 5.14165792e-02, 1.83673469e-01],\n",
              "       [9.39393939e-01, 0.00000000e+00, 7.34522560e-04, 1.83673469e-01],\n",
              "       [7.27272727e-01, 7.14285714e-02, 2.72822665e-03, 1.83673469e-01],\n",
              "       [9.69696970e-01, 7.14285714e-02, 1.15424974e-03, 1.83673469e-01],\n",
              "       [3.63636364e-01, 0.00000000e+00, 7.55508919e-02, 1.83673469e-01],\n",
              "       [8.78787879e-01, 7.14285714e-02, 2.62329486e-02, 1.00000000e+00],\n",
              "       [8.48484848e-01, 0.00000000e+00, 1.99370409e-03, 1.00000000e+00],\n",
              "       [8.78787879e-01, 0.00000000e+00, 2.51836306e-03, 1.00000000e+00],\n",
              "       [8.48484848e-01, 0.00000000e+00, 6.50577125e-03, 1.83673469e-01],\n",
              "       [7.87878788e-01, 0.00000000e+00, 2.93809024e-03, 1.00000000e+00],\n",
              "       [9.39393939e-01, 0.00000000e+00, 7.76495278e-03, 1.00000000e+00],\n",
              "       [9.39393939e-01, 0.00000000e+00, 5.24658972e-03, 1.83673469e-01],\n",
              "       [7.57575758e-01, 7.14285714e-02, 1.00000000e+00, 1.00000000e+00],\n",
              "       [8.18181818e-01, 7.14285714e-02, 1.36411333e-02, 1.83673469e-01],\n",
              "       [8.18181818e-01, 1.42857143e-01, 3.35781742e-03, 1.83673469e-01],\n",
              "       [4.84848485e-01, 0.00000000e+00, 3.35781742e-02, 1.00000000e+00],\n",
              "       [9.69696970e-01, 2.14285714e-01, 3.04302204e-03, 1.83673469e-01],\n",
              "       [9.09090909e-01, 0.00000000e+00, 1.36411333e-03, 1.83673469e-01],\n",
              "       [1.00000000e+00, 0.00000000e+00, 3.67261280e-03, 1.83673469e-01],\n",
              "       [9.69696970e-01, 0.00000000e+00, 1.36411333e-03, 1.83673469e-01],\n",
              "       [1.00000000e+00, 7.14285714e-02, 2.09863589e-04, 1.83673469e-01],\n",
              "       [8.78787879e-01, 5.00000000e-01, 1.88877230e-03, 1.00000000e+00],\n",
              "       [9.69696970e-01, 0.00000000e+00, 9.44386149e-03, 1.83673469e-01],\n",
              "       [9.39393939e-01, 0.00000000e+00, 3.14795383e-03, 0.00000000e+00],\n",
              "       [9.39393939e-01, 7.14285714e-02, 1.57397692e-03, 1.00000000e+00],\n",
              "       [8.78787879e-01, 0.00000000e+00, 1.36411333e-02, 1.00000000e+00],\n",
              "       [8.78787879e-01, 0.00000000e+00, 1.78384050e-02, 8.16326531e-02],\n",
              "       [8.18181818e-01, 0.00000000e+00, 3.98740818e-03, 1.00000000e+00],\n",
              "       [6.66666667e-01, 0.00000000e+00, 1.67890871e-02, 1.83673469e-01],\n",
              "       [9.39393939e-01, 1.42857143e-01, 2.41343127e-02, 1.00000000e+00],\n",
              "       [9.09090909e-01, 2.85714286e-01, 7.34522560e-03, 1.00000000e+00],\n",
              "       [8.78787879e-01, 0.00000000e+00, 3.88247639e-03, 1.83673469e-01],\n",
              "       [1.00000000e+00, 0.00000000e+00, 1.15424974e-03, 1.83673469e-01],\n",
              "       [8.48484848e-01, 2.14285714e-01, 3.14795383e-03, 1.00000000e+00],\n",
              "       [1.00000000e+00, 7.14285714e-02, 1.57397692e-03, 1.83673469e-01],\n",
              "       [7.87878788e-01, 0.00000000e+00, 2.09863589e-04, 1.83673469e-01],\n",
              "       [8.18181818e-01, 0.00000000e+00, 1.15424974e-03, 1.00000000e+00],\n",
              "       [9.09090909e-01, 7.14285714e-02, 8.39454355e-03, 1.83673469e-01],\n",
              "       [7.87878788e-01, 1.42857143e-01, 0.00000000e+00, 1.00000000e+00],\n",
              "       [9.69696970e-01, 0.00000000e+00, 4.51206716e-03, 1.83673469e-01],\n",
              "       [9.69696970e-01, 5.00000000e-01, 2.20356768e-03, 1.00000000e+00],\n",
              "       [9.69696970e-01, 2.85714286e-01, 2.09863589e-02, 1.00000000e+00],\n",
              "       [3.03030303e-02, 1.42857143e-01, 9.29695698e-01, 1.00000000e+00],\n",
              "       [8.78787879e-01, 0.00000000e+00, 3.14795383e-03, 1.83673469e-01],\n",
              "       [9.69696970e-01, 7.14285714e-02, 1.57397692e-03, 1.00000000e+00],\n",
              "       [8.48484848e-01, 2.14285714e-01, 9.54879328e-02, 1.83673469e-01],\n",
              "       [1.00000000e+00, 0.00000000e+00, 9.75865687e-02, 8.16326531e-02],\n",
              "       [9.09090909e-01, 0.00000000e+00, 1.25918153e-02, 1.00000000e+00],\n",
              "       [8.78787879e-01, 0.00000000e+00, 3.46274921e-03, 1.00000000e+00],\n",
              "       [9.39393939e-01, 0.00000000e+00, 3.67261280e-03, 1.00000000e+00],\n",
              "       [9.09090909e-01, 1.42857143e-01, 4.51206716e-03, 1.00000000e+00],\n",
              "       [3.63636364e-01, 7.14285714e-02, 1.99370409e-02, 1.00000000e+00],\n",
              "       [7.27272727e-01, 0.00000000e+00, 1.25918153e-02, 1.83673469e-01],\n",
              "       [8.18181818e-01, 0.00000000e+00, 7.34522560e-04, 1.83673469e-01],\n",
              "       [0.00000000e+00, 7.14285714e-02, 2.09863589e-02, 1.83673469e-01],\n",
              "       [8.78787879e-01, 0.00000000e+00, 2.30849948e-03, 8.16326531e-02],\n",
              "       [8.18181818e-01, 4.28571429e-01, 2.83315845e-03, 1.00000000e+00],\n",
              "       [8.78787879e-01, 7.14285714e-02, 3.46274921e-02, 1.83673469e-01],\n",
              "       [8.48484848e-01, 0.00000000e+00, 4.61699895e-02, 1.83673469e-01],\n",
              "       [2.12121212e-01, 0.00000000e+00, 4.40713536e-03, 1.00000000e+00],\n",
              "       [1.00000000e+00, 0.00000000e+00, 2.09863589e-04, 1.83673469e-01],\n",
              "       [1.00000000e+00, 0.00000000e+00, 1.67890871e-03, 1.83673469e-01],\n",
              "       [8.78787879e-01, 7.14285714e-02, 6.50577125e-03, 1.00000000e+00],\n",
              "       [8.48484848e-01, 0.00000000e+00, 1.99370409e-03, 1.00000000e+00],\n",
              "       [7.57575758e-01, 0.00000000e+00, 2.20356768e-03, 1.00000000e+00],\n",
              "       [1.00000000e+00, 0.00000000e+00, 5.03672613e-03, 1.00000000e+00],\n",
              "       [7.87878788e-01, 0.00000000e+00, 1.67890871e-03, 1.83673469e-01],\n",
              "       [8.18181818e-01, 0.00000000e+00, 3.77754460e-03, 1.00000000e+00],\n",
              "       [9.09090909e-01, 0.00000000e+00, 5.56138510e-03, 1.00000000e+00],\n",
              "       [8.48484848e-01, 0.00000000e+00, 2.62329486e-03, 1.00000000e+00],\n",
              "       [8.18181818e-01, 0.00000000e+00, 7.03043022e-03, 1.00000000e+00],\n",
              "       [8.48484848e-01, 0.00000000e+00, 1.57397692e-03, 1.83673469e-01],\n",
              "       [1.00000000e+00, 0.00000000e+00, 5.35152151e-03, 0.00000000e+00],\n",
              "       [9.09090909e-01, 0.00000000e+00, 1.04931794e-03, 1.00000000e+00],\n",
              "       [1.00000000e+00, 1.42857143e-01, 2.30849948e-03, 1.83673469e-01],\n",
              "       [9.09090909e-01, 0.00000000e+00, 6.61070304e-03, 1.83673469e-01],\n",
              "       [7.57575758e-01, 0.00000000e+00, 1.88877230e-02, 1.83673469e-01],\n",
              "       [9.09090909e-01, 0.00000000e+00, 5.24658972e-03, 1.00000000e+00],\n",
              "       [5.75757576e-01, 0.00000000e+00, 3.88247639e-03, 1.00000000e+00],\n",
              "       [9.39393939e-01, 7.85714286e-01, 1.57397692e-03, 1.00000000e+00],\n",
              "       [5.45454545e-01, 0.00000000e+00, 2.93809024e-03, 1.83673469e-01],\n",
              "       [1.00000000e+00, 0.00000000e+00, 5.24658972e-04, 8.16326531e-02],\n",
              "       [7.87878788e-01, 0.00000000e+00, 2.62329486e-02, 1.00000000e+00],\n",
              "       [8.78787879e-01, 5.00000000e-01, 7.34522560e-04, 1.00000000e+00],\n",
              "       [6.36363636e-01, 0.00000000e+00, 9.33892970e-03, 1.83673469e-01],\n",
              "       [7.57575758e-01, 0.00000000e+00, 9.12906611e-02, 1.00000000e+00],\n",
              "       [8.78787879e-01, 7.14285714e-02, 7.86988458e-03, 1.83673469e-01],\n",
              "       [9.39393939e-01, 0.00000000e+00, 7.13536201e-03, 1.83673469e-01],\n",
              "       [7.87878788e-01, 0.00000000e+00, 4.72193075e-02, 1.83673469e-01],\n",
              "       [4.84848485e-01, 0.00000000e+00, 6.29590766e-04, 1.83673469e-01],\n",
              "       [9.39393939e-01, 0.00000000e+00, 4.51206716e-02, 1.83673469e-01],\n",
              "       [9.39393939e-01, 0.00000000e+00, 5.40398741e-01, 1.83673469e-01],\n",
              "       [8.18181818e-01, 0.00000000e+00, 1.67890871e-02, 1.83673469e-01],\n",
              "       [7.87878788e-01, 0.00000000e+00, 2.83315845e-03, 1.83673469e-01],\n",
              "       [1.00000000e+00, 0.00000000e+00, 1.46904512e-03, 1.83673469e-01],\n",
              "       [6.66666667e-01, 0.00000000e+00, 5.66631689e-02, 1.00000000e+00],\n",
              "       [6.66666667e-01, 0.00000000e+00, 2.72822665e-02, 1.00000000e+00],\n",
              "       [6.66666667e-01, 0.00000000e+00, 1.57397692e-03, 1.00000000e+00],\n",
              "       [9.39393939e-01, 0.00000000e+00, 1.46904512e-02, 1.83673469e-01],\n",
              "       [8.48484848e-01, 7.14285714e-02, 6.40083945e-03, 1.00000000e+00],\n",
              "       [8.18181818e-01, 0.00000000e+00, 6.61070304e-03, 1.00000000e+00],\n",
              "       [4.24242424e-01, 0.00000000e+00, 3.67261280e-03, 1.00000000e+00],\n",
              "       [7.27272727e-01, 4.28571429e-01, 2.62329486e-03, 1.00000000e+00],\n",
              "       [7.87878788e-01, 0.00000000e+00, 2.30849948e-02, 1.00000000e+00],\n",
              "       [1.00000000e+00, 7.14285714e-02, 1.25918153e-03, 1.83673469e-01],\n",
              "       [9.69696970e-01, 0.00000000e+00, 7.86988458e-02, 1.83673469e-01],\n",
              "       [7.87878788e-01, 0.00000000e+00, 1.99370409e-02, 1.83673469e-01],\n",
              "       [4.84848485e-01, 0.00000000e+00, 1.99370409e-03, 1.00000000e+00],\n",
              "       [9.39393939e-01, 3.57142857e-01, 6.40083945e-03, 1.00000000e+00],\n",
              "       [8.78787879e-01, 0.00000000e+00, 8.39454355e-04, 1.83673469e-01],\n",
              "       [1.00000000e+00, 7.14285714e-02, 3.35781742e-03, 0.00000000e+00],\n",
              "       [1.00000000e+00, 0.00000000e+00, 8.12172088e-01, 1.83673469e-01],\n",
              "       [8.78787879e-01, 2.14285714e-01, 3.04302204e-03, 1.83673469e-01],\n",
              "       [8.18181818e-01, 2.85714286e-01, 3.35781742e-02, 1.00000000e+00],\n",
              "       [8.78787879e-01, 0.00000000e+00, 3.14795383e-02, 1.83673469e-01],\n",
              "       [9.69696970e-01, 0.00000000e+00, 2.30849948e-02, 1.83673469e-01],\n",
              "       [0.00000000e+00, 0.00000000e+00, 2.30849948e-02, 1.00000000e+00],\n",
              "       [1.00000000e+00, 0.00000000e+00, 1.25918153e-02, 1.83673469e-01],\n",
              "       [8.78787879e-01, 0.00000000e+00, 2.51836306e-02, 1.83673469e-01],\n",
              "       [1.00000000e+00, 0.00000000e+00, 5.23609654e-01, 1.83673469e-01],\n",
              "       [8.18181818e-01, 0.00000000e+00, 4.61699895e-02, 1.00000000e+00],\n",
              "       [5.75757576e-01, 7.14285714e-02, 4.93179433e-02, 1.00000000e+00],\n",
              "       [5.45454545e-01, 0.00000000e+00, 4.30220357e-02, 1.83673469e-01],\n",
              "       [9.69696970e-01, 1.42857143e-01, 9.44386149e-03, 1.83673469e-01],\n",
              "       [8.48484848e-01, 0.00000000e+00, 2.83315845e-02, 1.00000000e+00],\n",
              "       [8.78787879e-01, 1.42857143e-01, 2.41343127e-03, 1.83673469e-01],\n",
              "       [8.18181818e-01, 7.14285714e-02, 1.25918153e-03, 1.00000000e+00],\n",
              "       [7.27272727e-01, 0.00000000e+00, 2.93809024e-03, 1.83673469e-01],\n",
              "       [6.66666667e-01, 0.00000000e+00, 9.44386149e-03, 1.00000000e+00],\n",
              "       [9.39393939e-01, 0.00000000e+00, 1.36411333e-02, 1.00000000e+00],\n",
              "       [2.12121212e-01, 7.14285714e-02, 1.57397692e-02, 1.00000000e+00],\n",
              "       [1.00000000e+00, 0.00000000e+00, 4.19727177e-03, 1.83673469e-01],\n",
              "       [1.00000000e+00, 0.00000000e+00, 3.14795383e-04, 8.16326531e-02],\n",
              "       [9.69696970e-01, 0.00000000e+00, 2.41343127e-03, 1.00000000e+00],\n",
              "       [1.00000000e+00, 2.14285714e-01, 5.45645331e-03, 1.00000000e+00],\n",
              "       [1.81818182e-01, 0.00000000e+00, 1.15424974e-02, 1.00000000e+00],\n",
              "       [8.18181818e-01, 0.00000000e+00, 5.24658972e-04, 1.83673469e-01],\n",
              "       [7.87878788e-01, 0.00000000e+00, 1.99370409e-02, 1.00000000e+00],\n",
              "       [1.00000000e+00, 0.00000000e+00, 1.04931794e-02, 1.00000000e+00],\n",
              "       [9.69696970e-01, 2.85714286e-01, 2.93809024e-03, 1.00000000e+00],\n",
              "       [7.27272727e-01, 0.00000000e+00, 1.57397692e-02, 1.00000000e+00],\n",
              "       [6.36363636e-01, 0.00000000e+00, 2.09863589e-02, 1.00000000e+00],\n",
              "       [1.00000000e+00, 0.00000000e+00, 8.81427072e-03, 1.83673469e-01],\n",
              "       [9.09090909e-01, 0.00000000e+00, 9.65372508e-02, 1.83673469e-01],\n",
              "       [6.06060606e-01, 7.14285714e-02, 3.93494229e-01, 1.00000000e+00],\n",
              "       [8.18181818e-01, 0.00000000e+00, 2.20356768e-03, 1.00000000e+00],\n",
              "       [9.09090909e-01, 0.00000000e+00, 2.09863589e-04, 1.00000000e+00],\n",
              "       [9.69696970e-01, 0.00000000e+00, 1.36411333e-02, 1.00000000e+00],\n",
              "       [7.87878788e-01, 7.14285714e-02, 3.98740818e-03, 1.00000000e+00],\n",
              "       [1.00000000e+00, 0.00000000e+00, 1.04931794e-02, 1.00000000e+00],\n",
              "       [9.69696970e-01, 7.14285714e-02, 5.24658972e-03, 1.83673469e-01],\n",
              "       [9.09090909e-01, 0.00000000e+00, 3.04302204e-03, 1.83673469e-01],\n",
              "       [8.48484848e-01, 0.00000000e+00, 7.34522560e-03, 1.00000000e+00],\n",
              "       [7.57575758e-01, 0.00000000e+00, 1.25918153e-03, 1.00000000e+00],\n",
              "       [1.00000000e+00, 1.42857143e-01, 1.67890871e-03, 1.83673469e-01],\n",
              "       [1.00000000e+00, 1.42857143e-01, 2.83315845e-02, 1.00000000e+00],\n",
              "       [1.00000000e+00, 0.00000000e+00, 1.67890871e-03, 1.83673469e-01],\n",
              "       [1.00000000e+00, 0.00000000e+00, 2.41343127e-03, 8.16326531e-02],\n",
              "       [8.78787879e-01, 0.00000000e+00, 6.29590766e-04, 1.00000000e+00],\n",
              "       [1.00000000e+00, 0.00000000e+00, 1.57397692e-02, 1.83673469e-01],\n",
              "       [5.15151515e-01, 0.00000000e+00, 2.09863589e-04, 1.00000000e+00],\n",
              "       [9.39393939e-01, 0.00000000e+00, 2.09863589e-02, 1.83673469e-01]])"
            ]
          },
          "metadata": {
            "tags": []
          },
          "execution_count": 1353
        }
      ]
    },
    {
      "cell_type": "code",
      "metadata": {
        "id": "ApSNrxg9ytJ8",
        "colab_type": "code",
        "colab": {
          "base_uri": "https://localhost:8080/",
          "height": 1000
        },
        "outputId": "38b7e943-b767-48be-af06-e4741299a3a8"
      },
      "source": [
        "scalar.fit_transform(np.array(y).reshape(-1,1))"
      ],
      "execution_count": 1354,
      "outputs": [
        {
          "output_type": "execute_result",
          "data": {
            "text/plain": [
              "array([[0.],\n",
              "       [0.],\n",
              "       [0.],\n",
              "       [0.],\n",
              "       [0.],\n",
              "       [0.],\n",
              "       [1.],\n",
              "       [1.],\n",
              "       [1.],\n",
              "       [0.],\n",
              "       [0.],\n",
              "       [1.],\n",
              "       [1.],\n",
              "       [1.],\n",
              "       [1.],\n",
              "       [1.],\n",
              "       [1.],\n",
              "       [1.],\n",
              "       [1.],\n",
              "       [1.],\n",
              "       [1.],\n",
              "       [0.],\n",
              "       [1.],\n",
              "       [0.],\n",
              "       [1.],\n",
              "       [1.],\n",
              "       [1.],\n",
              "       [1.],\n",
              "       [0.],\n",
              "       [1.],\n",
              "       [0.],\n",
              "       [0.],\n",
              "       [0.],\n",
              "       [0.],\n",
              "       [1.],\n",
              "       [0.],\n",
              "       [0.],\n",
              "       [1.],\n",
              "       [0.],\n",
              "       [1.],\n",
              "       [0.],\n",
              "       [1.],\n",
              "       [0.],\n",
              "       [0.],\n",
              "       [0.],\n",
              "       [0.],\n",
              "       [0.],\n",
              "       [0.],\n",
              "       [0.],\n",
              "       [1.],\n",
              "       [0.],\n",
              "       [1.],\n",
              "       [0.],\n",
              "       [0.],\n",
              "       [0.],\n",
              "       [0.],\n",
              "       [0.],\n",
              "       [0.],\n",
              "       [1.],\n",
              "       [0.],\n",
              "       [0.],\n",
              "       [0.],\n",
              "       [0.],\n",
              "       [0.],\n",
              "       [1.],\n",
              "       [0.],\n",
              "       [0.],\n",
              "       [0.],\n",
              "       [1.],\n",
              "       [0.],\n",
              "       [0.],\n",
              "       [0.],\n",
              "       [1.],\n",
              "       [1.],\n",
              "       [0.],\n",
              "       [1.],\n",
              "       [0.],\n",
              "       [1.],\n",
              "       [0.],\n",
              "       [0.],\n",
              "       [0.],\n",
              "       [0.],\n",
              "       [0.],\n",
              "       [0.],\n",
              "       [0.],\n",
              "       [0.],\n",
              "       [0.],\n",
              "       [0.],\n",
              "       [1.],\n",
              "       [0.],\n",
              "       [0.],\n",
              "       [1.],\n",
              "       [0.],\n",
              "       [0.],\n",
              "       [0.],\n",
              "       [0.],\n",
              "       [0.],\n",
              "       [1.],\n",
              "       [0.],\n",
              "       [0.],\n",
              "       [1.],\n",
              "       [1.],\n",
              "       [0.],\n",
              "       [0.],\n",
              "       [0.],\n",
              "       [0.],\n",
              "       [0.],\n",
              "       [0.],\n",
              "       [0.],\n",
              "       [0.],\n",
              "       [0.],\n",
              "       [0.],\n",
              "       [0.],\n",
              "       [1.],\n",
              "       [0.],\n",
              "       [0.],\n",
              "       [0.],\n",
              "       [1.],\n",
              "       [0.],\n",
              "       [0.],\n",
              "       [1.],\n",
              "       [0.],\n",
              "       [0.],\n",
              "       [1.],\n",
              "       [0.],\n",
              "       [0.],\n",
              "       [1.],\n",
              "       [1.],\n",
              "       [1.],\n",
              "       [0.],\n",
              "       [1.],\n",
              "       [1.],\n",
              "       [0.],\n",
              "       [1.],\n",
              "       [0.],\n",
              "       [0.],\n",
              "       [0.],\n",
              "       [0.],\n",
              "       [1.],\n",
              "       [1.],\n",
              "       [0.],\n",
              "       [0.],\n",
              "       [0.],\n",
              "       [1.],\n",
              "       [0.],\n",
              "       [0.],\n",
              "       [0.],\n",
              "       [0.],\n",
              "       [0.],\n",
              "       [0.],\n",
              "       [1.],\n",
              "       [1.],\n",
              "       [0.],\n",
              "       [0.],\n",
              "       [0.],\n",
              "       [0.],\n",
              "       [1.],\n",
              "       [0.],\n",
              "       [1.],\n",
              "       [1.],\n",
              "       [0.],\n",
              "       [0.],\n",
              "       [0.],\n",
              "       [1.],\n",
              "       [0.],\n",
              "       [0.],\n",
              "       [0.],\n",
              "       [0.],\n",
              "       [0.],\n",
              "       [0.],\n",
              "       [0.],\n",
              "       [0.],\n",
              "       [0.],\n",
              "       [0.],\n",
              "       [1.],\n",
              "       [0.],\n",
              "       [1.],\n",
              "       [0.],\n",
              "       [0.],\n",
              "       [0.],\n",
              "       [1.],\n",
              "       [1.],\n",
              "       [0.],\n",
              "       [0.],\n",
              "       [0.],\n",
              "       [0.],\n",
              "       [0.],\n",
              "       [0.],\n",
              "       [1.],\n",
              "       [0.],\n",
              "       [0.],\n",
              "       [0.],\n",
              "       [0.],\n",
              "       [0.],\n",
              "       [0.],\n",
              "       [0.],\n",
              "       [0.],\n",
              "       [0.],\n",
              "       [0.]])"
            ]
          },
          "metadata": {
            "tags": []
          },
          "execution_count": 1354
        }
      ]
    },
    {
      "cell_type": "code",
      "metadata": {
        "id": "m0GLzzfBywlm",
        "colab_type": "code",
        "colab": {}
      },
      "source": [
        "x_train,x_test,y_train,y_test = train_test_split(x,y,test_size=0.30,random_state=25)"
      ],
      "execution_count": 1355,
      "outputs": []
    },
    {
      "cell_type": "code",
      "metadata": {
        "id": "24jUavMwzdZE",
        "colab_type": "code",
        "colab": {}
      },
      "source": [
        "model.fit(x_train,y_train)\n",
        "pred_y = model.predict(x_test)"
      ],
      "execution_count": 1356,
      "outputs": []
    },
    {
      "cell_type": "code",
      "metadata": {
        "id": "uGAK4CrCzmdG",
        "colab_type": "code",
        "colab": {}
      },
      "source": [
        "from sklearn.metrics import r2_score, accuracy_score"
      ],
      "execution_count": 1357,
      "outputs": []
    },
    {
      "cell_type": "code",
      "metadata": {
        "id": "l7E9Aytyz2C0",
        "colab_type": "code",
        "colab": {}
      },
      "source": [
        "#score = r2_score(y_test,y_pred=pred_y)\n",
        "score = accuracy_score(y_test,y_pred=pred_y)"
      ],
      "execution_count": 1358,
      "outputs": []
    },
    {
      "cell_type": "code",
      "metadata": {
        "id": "GQKddYIFz7Rw",
        "colab_type": "code",
        "colab": {
          "base_uri": "https://localhost:8080/",
          "height": 36
        },
        "outputId": "4b8fc783-61f3-44b9-bee4-5e16d5e51674"
      },
      "source": [
        "f'your score is {score*100}'"
      ],
      "execution_count": 1359,
      "outputs": [
        {
          "output_type": "execute_result",
          "data": {
            "application/vnd.google.colaboratory.intrinsic+json": {
              "type": "string"
            },
            "text/plain": [
              "'your score is 66.66666666666666'"
            ]
          },
          "metadata": {
            "tags": []
          },
          "execution_count": 1359
        }
      ]
    },
    {
      "cell_type": "code",
      "metadata": {
        "id": "PxUx7RZpz-9e",
        "colab_type": "code",
        "colab": {}
      },
      "source": [
        "from sklearn.model_selection import GridSearchCV"
      ],
      "execution_count": 1360,
      "outputs": []
    },
    {
      "cell_type": "code",
      "metadata": {
        "id": "7MQzPts-7JEP",
        "colab_type": "code",
        "colab": {}
      },
      "source": [
        "gcv = GridSearchCV"
      ],
      "execution_count": 1361,
      "outputs": []
    },
    {
      "cell_type": "code",
      "metadata": {
        "id": "dhUk38F47Mqe",
        "colab_type": "code",
        "colab": {}
      },
      "source": [
        "parameters = {'n_neighbors':range(1,100,5),'weights':['uniform','distance'],'algorithm':['auto', 'ball_tree', 'kd_tree', 'brute'],'leaf_size':range(10,100,10)}"
      ],
      "execution_count": 1362,
      "outputs": []
    },
    {
      "cell_type": "code",
      "metadata": {
        "id": "B3TLuz8N7q67",
        "colab_type": "code",
        "colab": {}
      },
      "source": [
        "x = gcv(model,parameters,n_jobs=-1,cv=10).fit(x_train,y_train)"
      ],
      "execution_count": 1363,
      "outputs": []
    },
    {
      "cell_type": "code",
      "metadata": {
        "id": "qJ3tmjzP8LTb",
        "colab_type": "code",
        "colab": {
          "base_uri": "https://localhost:8080/",
          "height": 35
        },
        "outputId": "8d71cc59-d386-4383-eeb2-20e0825d12e9"
      },
      "source": [
        "x.best_score_"
      ],
      "execution_count": 1364,
      "outputs": [
        {
          "output_type": "execute_result",
          "data": {
            "text/plain": [
              "0.7642857142857143"
            ]
          },
          "metadata": {
            "tags": []
          },
          "execution_count": 1364
        }
      ]
    },
    {
      "cell_type": "code",
      "metadata": {
        "id": "P3tNA0Ww9Bef",
        "colab_type": "code",
        "colab": {
          "base_uri": "https://localhost:8080/",
          "height": 90
        },
        "outputId": "472819fc-97f8-43d9-f234-0fdb1a7efe2e"
      },
      "source": [
        "x.best_params_"
      ],
      "execution_count": 1365,
      "outputs": [
        {
          "output_type": "execute_result",
          "data": {
            "text/plain": [
              "{'algorithm': 'auto',\n",
              " 'leaf_size': 10,\n",
              " 'n_neighbors': 26,\n",
              " 'weights': 'distance'}"
            ]
          },
          "metadata": {
            "tags": []
          },
          "execution_count": 1365
        }
      ]
    },
    {
      "cell_type": "code",
      "metadata": {
        "id": "39H4rqP19-Ly",
        "colab_type": "code",
        "colab": {}
      },
      "source": [
        ""
      ],
      "execution_count": 1365,
      "outputs": []
    }
  ]
}